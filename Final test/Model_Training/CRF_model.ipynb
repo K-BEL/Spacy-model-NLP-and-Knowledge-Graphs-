{
  "cells": [
    {
      "cell_type": "code",
      "execution_count": null,
      "metadata": {
        "id": "h-xdLP78q3VZ"
      },
      "outputs": [],
      "source": [
        "import spacy\n",
        "import textwrap\n",
        "import warnings\n",
        "import json\n",
        "import sklearn_crfsuite\n",
        "\n",
        "import pandas as pd\n",
        "\n",
        "from tqdm import tqdm\n",
        "from sklearn_crfsuite import metrics\n",
        "\n",
        "warnings.filterwarnings(\"ignore\")\n",
        "model = spacy.load(\"en_core_web_sm\")"
      ]
    },
    {
      "cell_type": "code",
      "execution_count": null,
      "metadata": {
        "id": "xW3km0ebq3Vf"
      },
      "outputs": [],
      "source": [
        "def read_file(file_name):\n",
        "    with open(file_name, 'r', encoding='utf-8') as file:\n",
        "        content = file.readlines()\n",
        "    \n",
        "    sentences = []\n",
        "    sentence = \"\"\n",
        "    word_count = 0\n",
        "    \n",
        "    for word in content:\n",
        "        word = word.strip('\\n')\n",
        "        if word == \"\":\n",
        "            sentences.append(sentence.rstrip(\" \"))\n",
        "            sentence = \"\"\n",
        "        else:\n",
        "            word_count += 1\n",
        "            sentence += word + \" \"\n",
        "            \n",
        "    print(\"Items in File       : \", len(content))\n",
        "    print(\"Number of Words     : \", word_count)\n",
        "    print(\"Number of Sentences : \", len(sentences))\n",
        "    \n",
        "    prefix = \"First Sentence      :  \"\n",
        "    wrapper = textwrap.TextWrapper(initial_indent = prefix, width = 150, subsequent_indent = ' '*len(prefix))\n",
        "    print(wrapper.fill(sentences[0]))\n",
        "    \n",
        "    return sentences"
      ]
    },
    {
      "cell_type": "code",
      "execution_count": null,
      "metadata": {
        "colab": {
          "base_uri": "https://localhost:8080/"
        },
        "id": "KlO36uNvq3Vj",
        "outputId": "865e49bf-0304-4d7c-d3f2-8c4674f938b7"
      },
      "outputs": [
        {
          "output_type": "stream",
          "name": "stdout",
          "text": [
            "Training Sentences\n",
            "------------------\n",
            "Items in File       :  48501\n",
            "Number of Words     :  45902\n",
            "Number of Sentences :  2599\n",
            "First Sentence      :  All live births > or = 23 weeks at the University of Vermont in 1995 ( n = 2395 ) were retrospectively analyzed for delivery\n",
            "                       route , indication for cesarean , gestational age , parity , and practice group ( to reflect risk status )\n",
            "\n",
            "\n",
            "Testing Sentences\n",
            "------------------\n",
            "Items in File       :  19674\n",
            "Number of Words     :  18618\n",
            "Number of Sentences :  1056\n",
            "First Sentence      :  Furthermore , when all deliveries were analyzed , regardless of risk status but limited to gestational age > or = 36 weeks ,\n",
            "                       the rates did not change ( 12.6 % , 280 of 2214 ; primary 9.2 % , 183 of 1994 )\n"
          ]
        }
      ],
      "source": [
        "print(\"Training Sentences\")\n",
        "print(\"------------------\")\n",
        "train_sentences = read_file(r\"train_sent\")\n",
        "\n",
        "print(\"\\n\")\n",
        "print(\"Testing Sentences\")\n",
        "print(\"------------------\")\n",
        "test_sentences = read_file(r\"test_sent\")"
      ]
    },
    {
      "cell_type": "code",
      "execution_count": null,
      "metadata": {
        "colab": {
          "base_uri": "https://localhost:8080/"
        },
        "id": "42qHFreFq3Vl",
        "outputId": "b8e1d36a-eac7-47cc-951d-6cf8a1bdb3dd"
      },
      "outputs": [
        {
          "output_type": "stream",
          "name": "stdout",
          "text": [
            "Training Labels\n",
            "--------------\n",
            "Items in File       :  48501\n",
            "Number of Words     :  45902\n",
            "Number of Sentences :  2599\n",
            "First Sentence      :  O O O O O O O O O O O O O O O O O O O O O O O O O O O O O O O O O O O O O O O O O O O O O\n",
            "\n",
            "\n",
            "Testing Labels\n",
            "--------------\n",
            "Items in File       :  19674\n",
            "Number of Words     :  18618\n",
            "Number of Sentences :  1056\n",
            "First Sentence      :  O O O O O O O O O O O O O O O O O O O O O O O O O O O O O O O O O O O O O O O O O O O O\n"
          ]
        }
      ],
      "source": [
        "print(\"Training Labels\")\n",
        "print(\"--------------\")\n",
        "train_labels = read_file(r\"train_label\")\n",
        "\n",
        "print(\"\\n\")\n",
        "print(\"Testing Labels\")\n",
        "print(\"--------------\")\n",
        "test_labels = read_file(r\"test_label\")"
      ]
    },
    {
      "cell_type": "code",
      "execution_count": null,
      "metadata": {
        "colab": {
          "base_uri": "https://localhost:8080/"
        },
        "id": "N4zQDOiMq3Vm",
        "outputId": "e5040c00-2243-4e3c-d725-2d9b2b2ab1b9"
      },
      "outputs": [
        {
          "output_type": "stream",
          "name": "stdout",
          "text": [
            "Training Sentences\n",
            "------------------\n"
          ]
        },
        {
          "output_type": "stream",
          "name": "stderr",
          "text": [
            "2599it [06:23,  6.78it/s]\n"
          ]
        },
        {
          "output_type": "stream",
          "name": "stdout",
          "text": [
            "\n",
            "\n",
            "Testing Sentences\n",
            "------------------\n"
          ]
        },
        {
          "output_type": "stream",
          "name": "stderr",
          "text": [
            "1056it [02:29,  7.07it/s]\n"
          ]
        }
      ],
      "source": [
        "def get_pos_tags(reviews, labels, tag = \"\"):\n",
        "    \n",
        "    sentence = []\n",
        "    pos = []\n",
        "    lemma = []\n",
        "    text = []\n",
        "    label = []\n",
        "    \n",
        "    i = 1 # Sentence Count\n",
        "    \n",
        "    for review, review_labels in tqdm(zip(reviews, labels)):\n",
        "        #doc = model(review)\n",
        "        for doc, review_label in zip(review.split(), review_labels.split()):\n",
        "            s = model(doc)\n",
        "            for tok in s:\n",
        "                sentence.append(tag + str(i))\n",
        "                pos.append(tok.pos_)\n",
        "                lemma.append(tok.lemma_)\n",
        "                text.append(tok.text)\n",
        "                label.append(review_label)\n",
        "        \n",
        "        i += 1\n",
        "    \n",
        "    return sentence, pos, lemma, text, label\n",
        "\n",
        "print(\"Training Sentences\")\n",
        "print(\"------------------\")\n",
        "train_sentence, train_pos, train_lemma, train_text, train_label = get_pos_tags(train_sentences, train_labels, \"train_\")\n",
        "train_frequency_df = pd.DataFrame({'sentence':train_sentence, 'text':train_text,'lemma':train_lemma,'pos':train_pos,'label':train_label})\n",
        "\n",
        "print(\"\\n\")\n",
        "print(\"Testing Sentences\")\n",
        "print(\"------------------\")\n",
        "test_sentence, test_pos, test_lemma, test_text, test_label = get_pos_tags(test_sentences, test_labels, \"test_\")\n",
        "test_frequency_df = pd.DataFrame({'sentence':test_sentence, 'text':test_text,'lemma':test_lemma,'pos':test_pos,'label':test_label})\n",
        "\n",
        "# Convert the data into a dataframe object.\n",
        "frequency_df = pd.concat((train_frequency_df.copy(), test_frequency_df.copy()),axis=0)"
      ]
    },
    {
      "cell_type": "code",
      "execution_count": null,
      "metadata": {
        "colab": {
          "base_uri": "https://localhost:8080/"
        },
        "id": "FB-2-ejRq3Vp",
        "outputId": "17bddb27-b375-41bd-f208-d88df43734f4"
      },
      "outputs": [
        {
          "output_type": "execute_result",
          "data": {
            "text/plain": [
              "patients        492\n",
              "treatment       281\n",
              "%               247\n",
              "cancer          200\n",
              "therapy         175\n",
              "study           162\n",
              "disease         143\n",
              "cell            140\n",
              "lung            116\n",
              "clinical         95\n",
              "group            94\n",
              "chemotherapy     88\n",
              "gene             88\n",
              "effects          85\n",
              "results          79\n",
              "use              78\n",
              "women            77\n",
              "cases            71\n",
              "surgery          71\n",
              "risk             71\n",
              "analysis         70\n",
              "rate             67\n",
              "associated       67\n",
              "response         66\n",
              "survival         65\n",
              "Name: text, dtype: int64"
            ]
          },
          "metadata": {},
          "execution_count": 6
        }
      ],
      "source": [
        "frequency_df[(frequency_df['pos'] == 'NOUN') | (frequency_df['pos'] == 'PROPN')]['text'].value_counts()[:25]"
      ]
    },
    {
      "cell_type": "code",
      "execution_count": null,
      "metadata": {
        "colab": {
          "base_uri": "https://localhost:8080/"
        },
        "id": "V2So5HpOq3Vq",
        "outputId": "283a6e1f-91aa-44fc-f963-88b7514426d5"
      },
      "outputs": [
        {
          "output_type": "execute_result",
          "data": {
            "text/plain": [
              "patient         502\n",
              "treatment       316\n",
              "%               247\n",
              "study           240\n",
              "cancer          226\n",
              "cell            203\n",
              "therapy         182\n",
              "effect          182\n",
              "disease         164\n",
              "group           145\n",
              "case            131\n",
              "lung            120\n",
              "gene            112\n",
              "rate            103\n",
              "clinical         95\n",
              "result           92\n",
              "trial            91\n",
              "conclusion       89\n",
              "woman            89\n",
              "chemotherapy     88\n",
              "analysis         86\n",
              "use              82\n",
              "protein          82\n",
              "response         81\n",
              "year             79\n",
              "Name: lemma, dtype: int64"
            ]
          },
          "metadata": {},
          "execution_count": 7
        }
      ],
      "source": [
        "frequency_df[(frequency_df['pos'] == 'NOUN') | (frequency_df['pos'] == 'PROPN')]['lemma'].value_counts()[:25]"
      ]
    },
    {
      "cell_type": "code",
      "execution_count": null,
      "metadata": {
        "id": "OCObH5ajq3Vr"
      },
      "outputs": [],
      "source": [
        "def getFeaturesForOneWord(word_details, pos):\n",
        "    word_details.reset_index(drop=True, inplace=True)\n",
        "    word = word_details[pos][0]\n",
        "    postag = word_details[pos][1]\n",
        "    \n",
        "    features = [\n",
        "        'bias=' + \"1.0\",\n",
        "        'word.lower=' + word.lower(),\n",
        "        'word[-3]=' + word[:-3],\n",
        "        'word[-2]=' + word[:-2],\n",
        "        'word.islower=%s' % word.islower(),\n",
        "        'word.isupper=%s' % word.isupper(),\n",
        "        'word.istitle=%s' % word.istitle(),\n",
        "        'word.isdigit=%s' % word.isdigit(),\n",
        "        'postag=' + postag,\n",
        "        'postag.isnounpronoun=%s' % (postag in ['NOUN','PROPN']),\n",
        "    ]\n",
        "    \n",
        "    if (pos > 0):\n",
        "        prev_word = word_details[pos-1][0]\n",
        "        prev_postag = word_details[pos-1][1]\n",
        "        \n",
        "        features.extend([\n",
        "            'prev_word.lower=' + prev_word.lower(),\n",
        "            'prev_word[-3]=' + prev_word[:-3],\n",
        "            'prev_word[-2]=' + prev_word[:-2],\n",
        "            'prev_word.islower=%s' % prev_word.islower(),\n",
        "            'prev_word.isupper=%s' % prev_word.isupper(),\n",
        "            'prev_word.istitle=%s' % prev_word.istitle(),\n",
        "            'prev_word.isdigit=%s' % prev_word.isdigit(),\n",
        "            'prev_postag=' + prev_postag,\n",
        "            'prev_postag.isnounpronoun=%s' % (prev_postag in ['NOUN','PROPN']),\n",
        "        ])\n",
        "    else:\n",
        "        features.append('BEG')\n",
        "        \n",
        "    if (pos < len(word_details) - 1):\n",
        "        next_word = word_details[pos+1][0]\n",
        "        next_postag = word_details[pos+1][1]\n",
        "        \n",
        "        features.extend([\n",
        "            'next_word.lower=' + next_word.lower(),\n",
        "            'next_word[-3]=' + next_word[:-3],\n",
        "            'next_word[-2]=' + next_word[:-2],\n",
        "            'next_word.islower=%s' % next_word.islower(),\n",
        "            'next_word.isupper=%s' % next_word.isupper(),\n",
        "            'next_word.istitle=%s' % next_word.istitle(),\n",
        "            'next_word.isdigit=%s' % next_word.isdigit(),\n",
        "            'next_postag=' + next_postag,\n",
        "            'next_postag.isnounpronoun=%s' % (next_postag in ['NOUN','PROPN']),\n",
        "        ])\n",
        "    else:\n",
        "        features.append('END')\n",
        "        \n",
        "    return features"
      ]
    },
    {
      "cell_type": "code",
      "execution_count": null,
      "metadata": {
        "id": "NjcwR3i_q3Vu"
      },
      "outputs": [],
      "source": [
        "def get_word_details(item):\n",
        "    return item[\"text\"], item[\"pos\"]\n",
        "\n",
        "def getFeaturesForOneSentence(sentence_id):\n",
        "    words_for_features = frequency_df[frequency_df[\"sentence\"] == sentence_id].apply(get_word_details, axis=1)\n",
        "    return [getFeaturesForOneWord(words_for_features, pos) for pos in range(len(words_for_features))]"
      ]
    },
    {
      "cell_type": "code",
      "execution_count": null,
      "metadata": {
        "colab": {
          "base_uri": "https://localhost:8080/"
        },
        "id": "x-EXhwJ_q3Vv",
        "outputId": "c6d5521e-0286-49b2-cc44-b604d439fb1f"
      },
      "outputs": [
        {
          "output_type": "stream",
          "name": "stdout",
          "text": [
            "01 Sentence : All live births > or = 23 weeks at the University of Vermont in 1995 ( n = 2395 ) were retrospectively analyzed for delivery route ,\n",
            "              indication for cesarean , gestational age , parity , and practice group ( to reflect risk status )\n",
            "\n",
            "\n",
            "01 Word     : ['bias=1.0', 'word.lower=all', 'word[-3]=', 'word[-2]=A', 'word.islower=False', 'word.isupper=False', 'word.istitle=True',\n",
            "              'word.isdigit=False', 'postag=DET', 'postag.isnounpronoun=False', 'BEG', 'next_word.lower=live', 'next_word[-3]=l', 'next_word[-2]=li',\n",
            "              'next_word.islower=True', 'next_word.isupper=False', 'next_word.istitle=False', 'next_word.isdigit=False', 'next_postag=VERB',\n",
            "              'next_postag.isnounpronoun=False']\n",
            "02 Word     : ['bias=1.0', 'word.lower=live', 'word[-3]=l', 'word[-2]=li', 'word.islower=True', 'word.isupper=False', 'word.istitle=False',\n",
            "              'word.isdigit=False', 'postag=VERB', 'postag.isnounpronoun=False', 'prev_word.lower=all', 'prev_word[-3]=', 'prev_word[-2]=A',\n",
            "              'prev_word.islower=False', 'prev_word.isupper=False', 'prev_word.istitle=True', 'prev_word.isdigit=False', 'prev_postag=DET',\n",
            "              'prev_postag.isnounpronoun=False', 'next_word.lower=births', 'next_word[-3]=bir', 'next_word[-2]=birt', 'next_word.islower=True',\n",
            "              'next_word.isupper=False', 'next_word.istitle=False', 'next_word.isdigit=False', 'next_postag=NOUN', 'next_postag.isnounpronoun=True']\n",
            "03 Word     : ['bias=1.0', 'word.lower=births', 'word[-3]=bir', 'word[-2]=birt', 'word.islower=True', 'word.isupper=False', 'word.istitle=False',\n",
            "              'word.isdigit=False', 'postag=NOUN', 'postag.isnounpronoun=True', 'prev_word.lower=live', 'prev_word[-3]=l', 'prev_word[-2]=li',\n",
            "              'prev_word.islower=True', 'prev_word.isupper=False', 'prev_word.istitle=False', 'prev_word.isdigit=False', 'prev_postag=VERB',\n",
            "              'prev_postag.isnounpronoun=False', 'next_word.lower=>', 'next_word[-3]=', 'next_word[-2]=', 'next_word.islower=False',\n",
            "              'next_word.isupper=False', 'next_word.istitle=False', 'next_word.isdigit=False', 'next_postag=X', 'next_postag.isnounpronoun=False']\n",
            "04 Word     : ['bias=1.0', 'word.lower=>', 'word[-3]=', 'word[-2]=', 'word.islower=False', 'word.isupper=False', 'word.istitle=False',\n",
            "              'word.isdigit=False', 'postag=X', 'postag.isnounpronoun=False', 'prev_word.lower=births', 'prev_word[-3]=bir', 'prev_word[-2]=birt',\n",
            "              'prev_word.islower=True', 'prev_word.isupper=False', 'prev_word.istitle=False', 'prev_word.isdigit=False', 'prev_postag=NOUN',\n",
            "              'prev_postag.isnounpronoun=True', 'next_word.lower=or', 'next_word[-3]=', 'next_word[-2]=', 'next_word.islower=True',\n",
            "              'next_word.isupper=False', 'next_word.istitle=False', 'next_word.isdigit=False', 'next_postag=CCONJ', 'next_postag.isnounpronoun=False']\n",
            "05 Word     : ['bias=1.0', 'word.lower=or', 'word[-3]=', 'word[-2]=', 'word.islower=True', 'word.isupper=False', 'word.istitle=False',\n",
            "              'word.isdigit=False', 'postag=CCONJ', 'postag.isnounpronoun=False', 'prev_word.lower=>', 'prev_word[-3]=', 'prev_word[-2]=',\n",
            "              'prev_word.islower=False', 'prev_word.isupper=False', 'prev_word.istitle=False', 'prev_word.isdigit=False', 'prev_postag=X',\n",
            "              'prev_postag.isnounpronoun=False', 'next_word.lower==', 'next_word[-3]=', 'next_word[-2]=', 'next_word.islower=False',\n",
            "              'next_word.isupper=False', 'next_word.istitle=False', 'next_word.isdigit=False', 'next_postag=X', 'next_postag.isnounpronoun=False']\n",
            "06 Word     : ['bias=1.0', 'word.lower==', 'word[-3]=', 'word[-2]=', 'word.islower=False', 'word.isupper=False', 'word.istitle=False',\n",
            "              'word.isdigit=False', 'postag=X', 'postag.isnounpronoun=False', 'prev_word.lower=or', 'prev_word[-3]=', 'prev_word[-2]=',\n",
            "              'prev_word.islower=True', 'prev_word.isupper=False', 'prev_word.istitle=False', 'prev_word.isdigit=False', 'prev_postag=CCONJ',\n",
            "              'prev_postag.isnounpronoun=False', 'next_word.lower=23', 'next_word[-3]=', 'next_word[-2]=', 'next_word.islower=False',\n",
            "              'next_word.isupper=False', 'next_word.istitle=False', 'next_word.isdigit=True', 'next_postag=NUM', 'next_postag.isnounpronoun=False']\n",
            "07 Word     : ['bias=1.0', 'word.lower=23', 'word[-3]=', 'word[-2]=', 'word.islower=False', 'word.isupper=False', 'word.istitle=False',\n",
            "              'word.isdigit=True', 'postag=NUM', 'postag.isnounpronoun=False', 'prev_word.lower==', 'prev_word[-3]=', 'prev_word[-2]=',\n",
            "              'prev_word.islower=False', 'prev_word.isupper=False', 'prev_word.istitle=False', 'prev_word.isdigit=False', 'prev_postag=X',\n",
            "              'prev_postag.isnounpronoun=False', 'next_word.lower=weeks', 'next_word[-3]=we', 'next_word[-2]=wee', 'next_word.islower=True',\n",
            "              'next_word.isupper=False', 'next_word.istitle=False', 'next_word.isdigit=False', 'next_postag=NOUN', 'next_postag.isnounpronoun=True']\n",
            "08 Word     : ['bias=1.0', 'word.lower=weeks', 'word[-3]=we', 'word[-2]=wee', 'word.islower=True', 'word.isupper=False', 'word.istitle=False',\n",
            "              'word.isdigit=False', 'postag=NOUN', 'postag.isnounpronoun=True', 'prev_word.lower=23', 'prev_word[-3]=', 'prev_word[-2]=',\n",
            "              'prev_word.islower=False', 'prev_word.isupper=False', 'prev_word.istitle=False', 'prev_word.isdigit=True', 'prev_postag=NUM',\n",
            "              'prev_postag.isnounpronoun=False', 'next_word.lower=at', 'next_word[-3]=', 'next_word[-2]=', 'next_word.islower=True',\n",
            "              'next_word.isupper=False', 'next_word.istitle=False', 'next_word.isdigit=False', 'next_postag=ADP', 'next_postag.isnounpronoun=False']\n",
            "09 Word     : ['bias=1.0', 'word.lower=at', 'word[-3]=', 'word[-2]=', 'word.islower=True', 'word.isupper=False', 'word.istitle=False',\n",
            "              'word.isdigit=False', 'postag=ADP', 'postag.isnounpronoun=False', 'prev_word.lower=weeks', 'prev_word[-3]=we', 'prev_word[-2]=wee',\n",
            "              'prev_word.islower=True', 'prev_word.isupper=False', 'prev_word.istitle=False', 'prev_word.isdigit=False', 'prev_postag=NOUN',\n",
            "              'prev_postag.isnounpronoun=True', 'next_word.lower=the', 'next_word[-3]=', 'next_word[-2]=t', 'next_word.islower=True',\n",
            "              'next_word.isupper=False', 'next_word.istitle=False', 'next_word.isdigit=False', 'next_postag=DET', 'next_postag.isnounpronoun=False']\n",
            "10 Word     : ['bias=1.0', 'word.lower=the', 'word[-3]=', 'word[-2]=t', 'word.islower=True', 'word.isupper=False', 'word.istitle=False',\n",
            "              'word.isdigit=False', 'postag=DET', 'postag.isnounpronoun=False', 'prev_word.lower=at', 'prev_word[-3]=', 'prev_word[-2]=',\n",
            "              'prev_word.islower=True', 'prev_word.isupper=False', 'prev_word.istitle=False', 'prev_word.isdigit=False', 'prev_postag=ADP',\n",
            "              'prev_postag.isnounpronoun=False', 'next_word.lower=university', 'next_word[-3]=Univers', 'next_word[-2]=Universi',\n",
            "              'next_word.islower=False', 'next_word.isupper=False', 'next_word.istitle=True', 'next_word.isdigit=False', 'next_postag=NOUN',\n",
            "              'next_postag.isnounpronoun=True']\n",
            "11 Word     : ['bias=1.0', 'word.lower=university', 'word[-3]=Univers', 'word[-2]=Universi', 'word.islower=False', 'word.isupper=False',\n",
            "              'word.istitle=True', 'word.isdigit=False', 'postag=NOUN', 'postag.isnounpronoun=True', 'prev_word.lower=the', 'prev_word[-3]=',\n",
            "              'prev_word[-2]=t', 'prev_word.islower=True', 'prev_word.isupper=False', 'prev_word.istitle=False', 'prev_word.isdigit=False',\n",
            "              'prev_postag=DET', 'prev_postag.isnounpronoun=False', 'next_word.lower=of', 'next_word[-3]=', 'next_word[-2]=',\n",
            "              'next_word.islower=True', 'next_word.isupper=False', 'next_word.istitle=False', 'next_word.isdigit=False', 'next_postag=ADP',\n",
            "              'next_postag.isnounpronoun=False']\n",
            "12 Word     : ['bias=1.0', 'word.lower=of', 'word[-3]=', 'word[-2]=', 'word.islower=True', 'word.isupper=False', 'word.istitle=False',\n",
            "              'word.isdigit=False', 'postag=ADP', 'postag.isnounpronoun=False', 'prev_word.lower=university', 'prev_word[-3]=Univers',\n",
            "              'prev_word[-2]=Universi', 'prev_word.islower=False', 'prev_word.isupper=False', 'prev_word.istitle=True', 'prev_word.isdigit=False',\n",
            "              'prev_postag=NOUN', 'prev_postag.isnounpronoun=True', 'next_word.lower=vermont', 'next_word[-3]=Verm', 'next_word[-2]=Vermo',\n",
            "              'next_word.islower=False', 'next_word.isupper=False', 'next_word.istitle=True', 'next_word.isdigit=False', 'next_postag=PROPN',\n",
            "              'next_postag.isnounpronoun=True']\n",
            "13 Word     : ['bias=1.0', 'word.lower=vermont', 'word[-3]=Verm', 'word[-2]=Vermo', 'word.islower=False', 'word.isupper=False', 'word.istitle=True',\n",
            "              'word.isdigit=False', 'postag=PROPN', 'postag.isnounpronoun=True', 'prev_word.lower=of', 'prev_word[-3]=', 'prev_word[-2]=',\n",
            "              'prev_word.islower=True', 'prev_word.isupper=False', 'prev_word.istitle=False', 'prev_word.isdigit=False', 'prev_postag=ADP',\n",
            "              'prev_postag.isnounpronoun=False', 'next_word.lower=in', 'next_word[-3]=', 'next_word[-2]=', 'next_word.islower=True',\n",
            "              'next_word.isupper=False', 'next_word.istitle=False', 'next_word.isdigit=False', 'next_postag=ADP', 'next_postag.isnounpronoun=False']\n",
            "14 Word     : ['bias=1.0', 'word.lower=in', 'word[-3]=', 'word[-2]=', 'word.islower=True', 'word.isupper=False', 'word.istitle=False',\n",
            "              'word.isdigit=False', 'postag=ADP', 'postag.isnounpronoun=False', 'prev_word.lower=vermont', 'prev_word[-3]=Verm',\n",
            "              'prev_word[-2]=Vermo', 'prev_word.islower=False', 'prev_word.isupper=False', 'prev_word.istitle=True', 'prev_word.isdigit=False',\n",
            "              'prev_postag=PROPN', 'prev_postag.isnounpronoun=True', 'next_word.lower=1995', 'next_word[-3]=1', 'next_word[-2]=19',\n",
            "              'next_word.islower=False', 'next_word.isupper=False', 'next_word.istitle=False', 'next_word.isdigit=True', 'next_postag=NUM',\n",
            "              'next_postag.isnounpronoun=False']\n",
            "15 Word     : ['bias=1.0', 'word.lower=1995', 'word[-3]=1', 'word[-2]=19', 'word.islower=False', 'word.isupper=False', 'word.istitle=False',\n",
            "              'word.isdigit=True', 'postag=NUM', 'postag.isnounpronoun=False', 'prev_word.lower=in', 'prev_word[-3]=', 'prev_word[-2]=',\n",
            "              'prev_word.islower=True', 'prev_word.isupper=False', 'prev_word.istitle=False', 'prev_word.isdigit=False', 'prev_postag=ADP',\n",
            "              'prev_postag.isnounpronoun=False', 'next_word.lower=(', 'next_word[-3]=', 'next_word[-2]=', 'next_word.islower=False',\n",
            "              'next_word.isupper=False', 'next_word.istitle=False', 'next_word.isdigit=False', 'next_postag=PUNCT', 'next_postag.isnounpronoun=False']\n",
            "16 Word     : ['bias=1.0', 'word.lower=(', 'word[-3]=', 'word[-2]=', 'word.islower=False', 'word.isupper=False', 'word.istitle=False',\n",
            "              'word.isdigit=False', 'postag=PUNCT', 'postag.isnounpronoun=False', 'prev_word.lower=1995', 'prev_word[-3]=1', 'prev_word[-2]=19',\n",
            "              'prev_word.islower=False', 'prev_word.isupper=False', 'prev_word.istitle=False', 'prev_word.isdigit=True', 'prev_postag=NUM',\n",
            "              'prev_postag.isnounpronoun=False', 'next_word.lower=n', 'next_word[-3]=', 'next_word[-2]=', 'next_word.islower=True',\n",
            "              'next_word.isupper=False', 'next_word.istitle=False', 'next_word.isdigit=False', 'next_postag=X', 'next_postag.isnounpronoun=False']\n",
            "17 Word     : ['bias=1.0', 'word.lower=n', 'word[-3]=', 'word[-2]=', 'word.islower=True', 'word.isupper=False', 'word.istitle=False',\n",
            "              'word.isdigit=False', 'postag=X', 'postag.isnounpronoun=False', 'prev_word.lower=(', 'prev_word[-3]=', 'prev_word[-2]=',\n",
            "              'prev_word.islower=False', 'prev_word.isupper=False', 'prev_word.istitle=False', 'prev_word.isdigit=False', 'prev_postag=PUNCT',\n",
            "              'prev_postag.isnounpronoun=False', 'next_word.lower==', 'next_word[-3]=', 'next_word[-2]=', 'next_word.islower=False',\n",
            "              'next_word.isupper=False', 'next_word.istitle=False', 'next_word.isdigit=False', 'next_postag=X', 'next_postag.isnounpronoun=False']\n",
            "18 Word     : ['bias=1.0', 'word.lower==', 'word[-3]=', 'word[-2]=', 'word.islower=False', 'word.isupper=False', 'word.istitle=False',\n",
            "              'word.isdigit=False', 'postag=X', 'postag.isnounpronoun=False', 'prev_word.lower=n', 'prev_word[-3]=', 'prev_word[-2]=',\n",
            "              'prev_word.islower=True', 'prev_word.isupper=False', 'prev_word.istitle=False', 'prev_word.isdigit=False', 'prev_postag=X',\n",
            "              'prev_postag.isnounpronoun=False', 'next_word.lower=2395', 'next_word[-3]=2', 'next_word[-2]=23', 'next_word.islower=False',\n",
            "              'next_word.isupper=False', 'next_word.istitle=False', 'next_word.isdigit=True', 'next_postag=NUM', 'next_postag.isnounpronoun=False']\n",
            "19 Word     : ['bias=1.0', 'word.lower=2395', 'word[-3]=2', 'word[-2]=23', 'word.islower=False', 'word.isupper=False', 'word.istitle=False',\n",
            "              'word.isdigit=True', 'postag=NUM', 'postag.isnounpronoun=False', 'prev_word.lower==', 'prev_word[-3]=', 'prev_word[-2]=',\n",
            "              'prev_word.islower=False', 'prev_word.isupper=False', 'prev_word.istitle=False', 'prev_word.isdigit=False', 'prev_postag=X',\n",
            "              'prev_postag.isnounpronoun=False', 'next_word.lower=)', 'next_word[-3]=', 'next_word[-2]=', 'next_word.islower=False',\n",
            "              'next_word.isupper=False', 'next_word.istitle=False', 'next_word.isdigit=False', 'next_postag=PUNCT', 'next_postag.isnounpronoun=False']\n",
            "20 Word     : ['bias=1.0', 'word.lower=)', 'word[-3]=', 'word[-2]=', 'word.islower=False', 'word.isupper=False', 'word.istitle=False',\n",
            "              'word.isdigit=False', 'postag=PUNCT', 'postag.isnounpronoun=False', 'prev_word.lower=2395', 'prev_word[-3]=2', 'prev_word[-2]=23',\n",
            "              'prev_word.islower=False', 'prev_word.isupper=False', 'prev_word.istitle=False', 'prev_word.isdigit=True', 'prev_postag=NUM',\n",
            "              'prev_postag.isnounpronoun=False', 'next_word.lower=were', 'next_word[-3]=w', 'next_word[-2]=we', 'next_word.islower=True',\n",
            "              'next_word.isupper=False', 'next_word.istitle=False', 'next_word.isdigit=False', 'next_postag=AUX', 'next_postag.isnounpronoun=False']\n",
            "21 Word     : ['bias=1.0', 'word.lower=were', 'word[-3]=w', 'word[-2]=we', 'word.islower=True', 'word.isupper=False', 'word.istitle=False',\n",
            "              'word.isdigit=False', 'postag=AUX', 'postag.isnounpronoun=False', 'prev_word.lower=)', 'prev_word[-3]=', 'prev_word[-2]=',\n",
            "              'prev_word.islower=False', 'prev_word.isupper=False', 'prev_word.istitle=False', 'prev_word.isdigit=False', 'prev_postag=PUNCT',\n",
            "              'prev_postag.isnounpronoun=False', 'next_word.lower=retrospectively', 'next_word[-3]=retrospectiv', 'next_word[-2]=retrospective',\n",
            "              'next_word.islower=True', 'next_word.isupper=False', 'next_word.istitle=False', 'next_word.isdigit=False', 'next_postag=ADV',\n",
            "              'next_postag.isnounpronoun=False']\n",
            "22 Word     : ['bias=1.0', 'word.lower=retrospectively', 'word[-3]=retrospectiv', 'word[-2]=retrospective', 'word.islower=True', 'word.isupper=False',\n",
            "              'word.istitle=False', 'word.isdigit=False', 'postag=ADV', 'postag.isnounpronoun=False', 'prev_word.lower=were', 'prev_word[-3]=w',\n",
            "              'prev_word[-2]=we', 'prev_word.islower=True', 'prev_word.isupper=False', 'prev_word.istitle=False', 'prev_word.isdigit=False',\n",
            "              'prev_postag=AUX', 'prev_postag.isnounpronoun=False', 'next_word.lower=analyzed', 'next_word[-3]=analy', 'next_word[-2]=analyz',\n",
            "              'next_word.islower=True', 'next_word.isupper=False', 'next_word.istitle=False', 'next_word.isdigit=False', 'next_postag=VERB',\n",
            "              'next_postag.isnounpronoun=False']\n",
            "23 Word     : ['bias=1.0', 'word.lower=analyzed', 'word[-3]=analy', 'word[-2]=analyz', 'word.islower=True', 'word.isupper=False',\n",
            "              'word.istitle=False', 'word.isdigit=False', 'postag=VERB', 'postag.isnounpronoun=False', 'prev_word.lower=retrospectively',\n",
            "              'prev_word[-3]=retrospectiv', 'prev_word[-2]=retrospective', 'prev_word.islower=True', 'prev_word.isupper=False',\n",
            "              'prev_word.istitle=False', 'prev_word.isdigit=False', 'prev_postag=ADV', 'prev_postag.isnounpronoun=False', 'next_word.lower=for',\n",
            "              'next_word[-3]=', 'next_word[-2]=f', 'next_word.islower=True', 'next_word.isupper=False', 'next_word.istitle=False',\n",
            "              'next_word.isdigit=False', 'next_postag=ADP', 'next_postag.isnounpronoun=False']\n",
            "24 Word     : ['bias=1.0', 'word.lower=for', 'word[-3]=', 'word[-2]=f', 'word.islower=True', 'word.isupper=False', 'word.istitle=False',\n",
            "              'word.isdigit=False', 'postag=ADP', 'postag.isnounpronoun=False', 'prev_word.lower=analyzed', 'prev_word[-3]=analy',\n",
            "              'prev_word[-2]=analyz', 'prev_word.islower=True', 'prev_word.isupper=False', 'prev_word.istitle=False', 'prev_word.isdigit=False',\n",
            "              'prev_postag=VERB', 'prev_postag.isnounpronoun=False', 'next_word.lower=delivery', 'next_word[-3]=deliv', 'next_word[-2]=delive',\n",
            "              'next_word.islower=True', 'next_word.isupper=False', 'next_word.istitle=False', 'next_word.isdigit=False', 'next_postag=NOUN',\n",
            "              'next_postag.isnounpronoun=True']\n",
            "25 Word     : ['bias=1.0', 'word.lower=delivery', 'word[-3]=deliv', 'word[-2]=delive', 'word.islower=True', 'word.isupper=False',\n",
            "              'word.istitle=False', 'word.isdigit=False', 'postag=NOUN', 'postag.isnounpronoun=True', 'prev_word.lower=for', 'prev_word[-3]=',\n",
            "              'prev_word[-2]=f', 'prev_word.islower=True', 'prev_word.isupper=False', 'prev_word.istitle=False', 'prev_word.isdigit=False',\n",
            "              'prev_postag=ADP', 'prev_postag.isnounpronoun=False', 'next_word.lower=route', 'next_word[-3]=ro', 'next_word[-2]=rou',\n",
            "              'next_word.islower=True', 'next_word.isupper=False', 'next_word.istitle=False', 'next_word.isdigit=False', 'next_postag=PROPN',\n",
            "              'next_postag.isnounpronoun=True']\n",
            "26 Word     : ['bias=1.0', 'word.lower=route', 'word[-3]=ro', 'word[-2]=rou', 'word.islower=True', 'word.isupper=False', 'word.istitle=False',\n",
            "              'word.isdigit=False', 'postag=PROPN', 'postag.isnounpronoun=True', 'prev_word.lower=delivery', 'prev_word[-3]=deliv',\n",
            "              'prev_word[-2]=delive', 'prev_word.islower=True', 'prev_word.isupper=False', 'prev_word.istitle=False', 'prev_word.isdigit=False',\n",
            "              'prev_postag=NOUN', 'prev_postag.isnounpronoun=True', 'next_word.lower=,', 'next_word[-3]=', 'next_word[-2]=',\n",
            "              'next_word.islower=False', 'next_word.isupper=False', 'next_word.istitle=False', 'next_word.isdigit=False', 'next_postag=PUNCT',\n",
            "              'next_postag.isnounpronoun=False']\n",
            "27 Word     : ['bias=1.0', 'word.lower=,', 'word[-3]=', 'word[-2]=', 'word.islower=False', 'word.isupper=False', 'word.istitle=False',\n",
            "              'word.isdigit=False', 'postag=PUNCT', 'postag.isnounpronoun=False', 'prev_word.lower=route', 'prev_word[-3]=ro', 'prev_word[-2]=rou',\n",
            "              'prev_word.islower=True', 'prev_word.isupper=False', 'prev_word.istitle=False', 'prev_word.isdigit=False', 'prev_postag=PROPN',\n",
            "              'prev_postag.isnounpronoun=True', 'next_word.lower=indication', 'next_word[-3]=indicat', 'next_word[-2]=indicati',\n",
            "              'next_word.islower=True', 'next_word.isupper=False', 'next_word.istitle=False', 'next_word.isdigit=False', 'next_postag=NOUN',\n",
            "              'next_postag.isnounpronoun=True']\n",
            "28 Word     : ['bias=1.0', 'word.lower=indication', 'word[-3]=indicat', 'word[-2]=indicati', 'word.islower=True', 'word.isupper=False',\n",
            "              'word.istitle=False', 'word.isdigit=False', 'postag=NOUN', 'postag.isnounpronoun=True', 'prev_word.lower=,', 'prev_word[-3]=',\n",
            "              'prev_word[-2]=', 'prev_word.islower=False', 'prev_word.isupper=False', 'prev_word.istitle=False', 'prev_word.isdigit=False',\n",
            "              'prev_postag=PUNCT', 'prev_postag.isnounpronoun=False', 'next_word.lower=for', 'next_word[-3]=', 'next_word[-2]=f',\n",
            "              'next_word.islower=True', 'next_word.isupper=False', 'next_word.istitle=False', 'next_word.isdigit=False', 'next_postag=ADP',\n",
            "              'next_postag.isnounpronoun=False']\n",
            "29 Word     : ['bias=1.0', 'word.lower=for', 'word[-3]=', 'word[-2]=f', 'word.islower=True', 'word.isupper=False', 'word.istitle=False',\n",
            "              'word.isdigit=False', 'postag=ADP', 'postag.isnounpronoun=False', 'prev_word.lower=indication', 'prev_word[-3]=indicat',\n",
            "              'prev_word[-2]=indicati', 'prev_word.islower=True', 'prev_word.isupper=False', 'prev_word.istitle=False', 'prev_word.isdigit=False',\n",
            "              'prev_postag=NOUN', 'prev_postag.isnounpronoun=True', 'next_word.lower=cesarean', 'next_word[-3]=cesar', 'next_word[-2]=cesare',\n",
            "              'next_word.islower=True', 'next_word.isupper=False', 'next_word.istitle=False', 'next_word.isdigit=False', 'next_postag=PROPN',\n",
            "              'next_postag.isnounpronoun=True']\n",
            "30 Word     : ['bias=1.0', 'word.lower=cesarean', 'word[-3]=cesar', 'word[-2]=cesare', 'word.islower=True', 'word.isupper=False',\n",
            "              'word.istitle=False', 'word.isdigit=False', 'postag=PROPN', 'postag.isnounpronoun=True', 'prev_word.lower=for', 'prev_word[-3]=',\n",
            "              'prev_word[-2]=f', 'prev_word.islower=True', 'prev_word.isupper=False', 'prev_word.istitle=False', 'prev_word.isdigit=False',\n",
            "              'prev_postag=ADP', 'prev_postag.isnounpronoun=False', 'next_word.lower=,', 'next_word[-3]=', 'next_word[-2]=',\n",
            "              'next_word.islower=False', 'next_word.isupper=False', 'next_word.istitle=False', 'next_word.isdigit=False', 'next_postag=PUNCT',\n",
            "              'next_postag.isnounpronoun=False']\n",
            "31 Word     : ['bias=1.0', 'word.lower=,', 'word[-3]=', 'word[-2]=', 'word.islower=False', 'word.isupper=False', 'word.istitle=False',\n",
            "              'word.isdigit=False', 'postag=PUNCT', 'postag.isnounpronoun=False', 'prev_word.lower=cesarean', 'prev_word[-3]=cesar',\n",
            "              'prev_word[-2]=cesare', 'prev_word.islower=True', 'prev_word.isupper=False', 'prev_word.istitle=False', 'prev_word.isdigit=False',\n",
            "              'prev_postag=PROPN', 'prev_postag.isnounpronoun=True', 'next_word.lower=gestational', 'next_word[-3]=gestatio',\n",
            "              'next_word[-2]=gestation', 'next_word.islower=True', 'next_word.isupper=False', 'next_word.istitle=False', 'next_word.isdigit=False',\n",
            "              'next_postag=ADJ', 'next_postag.isnounpronoun=False']\n",
            "32 Word     : ['bias=1.0', 'word.lower=gestational', 'word[-3]=gestatio', 'word[-2]=gestation', 'word.islower=True', 'word.isupper=False',\n",
            "              'word.istitle=False', 'word.isdigit=False', 'postag=ADJ', 'postag.isnounpronoun=False', 'prev_word.lower=,', 'prev_word[-3]=',\n",
            "              'prev_word[-2]=', 'prev_word.islower=False', 'prev_word.isupper=False', 'prev_word.istitle=False', 'prev_word.isdigit=False',\n",
            "              'prev_postag=PUNCT', 'prev_postag.isnounpronoun=False', 'next_word.lower=age', 'next_word[-3]=', 'next_word[-2]=a',\n",
            "              'next_word.islower=True', 'next_word.isupper=False', 'next_word.istitle=False', 'next_word.isdigit=False', 'next_postag=NOUN',\n",
            "              'next_postag.isnounpronoun=True']\n",
            "33 Word     : ['bias=1.0', 'word.lower=age', 'word[-3]=', 'word[-2]=a', 'word.islower=True', 'word.isupper=False', 'word.istitle=False',\n",
            "              'word.isdigit=False', 'postag=NOUN', 'postag.isnounpronoun=True', 'prev_word.lower=gestational', 'prev_word[-3]=gestatio',\n",
            "              'prev_word[-2]=gestation', 'prev_word.islower=True', 'prev_word.isupper=False', 'prev_word.istitle=False', 'prev_word.isdigit=False',\n",
            "              'prev_postag=ADJ', 'prev_postag.isnounpronoun=False', 'next_word.lower=,', 'next_word[-3]=', 'next_word[-2]=',\n",
            "              'next_word.islower=False', 'next_word.isupper=False', 'next_word.istitle=False', 'next_word.isdigit=False', 'next_postag=PUNCT',\n",
            "              'next_postag.isnounpronoun=False']\n",
            "34 Word     : ['bias=1.0', 'word.lower=,', 'word[-3]=', 'word[-2]=', 'word.islower=False', 'word.isupper=False', 'word.istitle=False',\n",
            "              'word.isdigit=False', 'postag=PUNCT', 'postag.isnounpronoun=False', 'prev_word.lower=age', 'prev_word[-3]=', 'prev_word[-2]=a',\n",
            "              'prev_word.islower=True', 'prev_word.isupper=False', 'prev_word.istitle=False', 'prev_word.isdigit=False', 'prev_postag=NOUN',\n",
            "              'prev_postag.isnounpronoun=True', 'next_word.lower=parity', 'next_word[-3]=par', 'next_word[-2]=pari', 'next_word.islower=True',\n",
            "              'next_word.isupper=False', 'next_word.istitle=False', 'next_word.isdigit=False', 'next_postag=PROPN', 'next_postag.isnounpronoun=True']\n",
            "35 Word     : ['bias=1.0', 'word.lower=parity', 'word[-3]=par', 'word[-2]=pari', 'word.islower=True', 'word.isupper=False', 'word.istitle=False',\n",
            "              'word.isdigit=False', 'postag=PROPN', 'postag.isnounpronoun=True', 'prev_word.lower=,', 'prev_word[-3]=', 'prev_word[-2]=',\n",
            "              'prev_word.islower=False', 'prev_word.isupper=False', 'prev_word.istitle=False', 'prev_word.isdigit=False', 'prev_postag=PUNCT',\n",
            "              'prev_postag.isnounpronoun=False', 'next_word.lower=,', 'next_word[-3]=', 'next_word[-2]=', 'next_word.islower=False',\n",
            "              'next_word.isupper=False', 'next_word.istitle=False', 'next_word.isdigit=False', 'next_postag=PUNCT', 'next_postag.isnounpronoun=False']\n",
            "36 Word     : ['bias=1.0', 'word.lower=,', 'word[-3]=', 'word[-2]=', 'word.islower=False', 'word.isupper=False', 'word.istitle=False',\n",
            "              'word.isdigit=False', 'postag=PUNCT', 'postag.isnounpronoun=False', 'prev_word.lower=parity', 'prev_word[-3]=par', 'prev_word[-2]=pari',\n",
            "              'prev_word.islower=True', 'prev_word.isupper=False', 'prev_word.istitle=False', 'prev_word.isdigit=False', 'prev_postag=PROPN',\n",
            "              'prev_postag.isnounpronoun=True', 'next_word.lower=and', 'next_word[-3]=', 'next_word[-2]=a', 'next_word.islower=True',\n",
            "              'next_word.isupper=False', 'next_word.istitle=False', 'next_word.isdigit=False', 'next_postag=CCONJ', 'next_postag.isnounpronoun=False']\n",
            "37 Word     : ['bias=1.0', 'word.lower=and', 'word[-3]=', 'word[-2]=a', 'word.islower=True', 'word.isupper=False', 'word.istitle=False',\n",
            "              'word.isdigit=False', 'postag=CCONJ', 'postag.isnounpronoun=False', 'prev_word.lower=,', 'prev_word[-3]=', 'prev_word[-2]=',\n",
            "              'prev_word.islower=False', 'prev_word.isupper=False', 'prev_word.istitle=False', 'prev_word.isdigit=False', 'prev_postag=PUNCT',\n",
            "              'prev_postag.isnounpronoun=False', 'next_word.lower=practice', 'next_word[-3]=pract', 'next_word[-2]=practi', 'next_word.islower=True',\n",
            "              'next_word.isupper=False', 'next_word.istitle=False', 'next_word.isdigit=False', 'next_postag=NOUN', 'next_postag.isnounpronoun=True']\n",
            "38 Word     : ['bias=1.0', 'word.lower=practice', 'word[-3]=pract', 'word[-2]=practi', 'word.islower=True', 'word.isupper=False',\n",
            "              'word.istitle=False', 'word.isdigit=False', 'postag=NOUN', 'postag.isnounpronoun=True', 'prev_word.lower=and', 'prev_word[-3]=',\n",
            "              'prev_word[-2]=a', 'prev_word.islower=True', 'prev_word.isupper=False', 'prev_word.istitle=False', 'prev_word.isdigit=False',\n",
            "              'prev_postag=CCONJ', 'prev_postag.isnounpronoun=False', 'next_word.lower=group', 'next_word[-3]=gr', 'next_word[-2]=gro',\n",
            "              'next_word.islower=True', 'next_word.isupper=False', 'next_word.istitle=False', 'next_word.isdigit=False', 'next_postag=NOUN',\n",
            "              'next_postag.isnounpronoun=True']\n",
            "39 Word     : ['bias=1.0', 'word.lower=group', 'word[-3]=gr', 'word[-2]=gro', 'word.islower=True', 'word.isupper=False', 'word.istitle=False',\n",
            "              'word.isdigit=False', 'postag=NOUN', 'postag.isnounpronoun=True', 'prev_word.lower=practice', 'prev_word[-3]=pract',\n",
            "              'prev_word[-2]=practi', 'prev_word.islower=True', 'prev_word.isupper=False', 'prev_word.istitle=False', 'prev_word.isdigit=False',\n",
            "              'prev_postag=NOUN', 'prev_postag.isnounpronoun=True', 'next_word.lower=(', 'next_word[-3]=', 'next_word[-2]=',\n",
            "              'next_word.islower=False', 'next_word.isupper=False', 'next_word.istitle=False', 'next_word.isdigit=False', 'next_postag=PUNCT',\n",
            "              'next_postag.isnounpronoun=False']\n",
            "40 Word     : ['bias=1.0', 'word.lower=(', 'word[-3]=', 'word[-2]=', 'word.islower=False', 'word.isupper=False', 'word.istitle=False',\n",
            "              'word.isdigit=False', 'postag=PUNCT', 'postag.isnounpronoun=False', 'prev_word.lower=group', 'prev_word[-3]=gr', 'prev_word[-2]=gro',\n",
            "              'prev_word.islower=True', 'prev_word.isupper=False', 'prev_word.istitle=False', 'prev_word.isdigit=False', 'prev_postag=NOUN',\n",
            "              'prev_postag.isnounpronoun=True', 'next_word.lower=to', 'next_word[-3]=', 'next_word[-2]=', 'next_word.islower=True',\n",
            "              'next_word.isupper=False', 'next_word.istitle=False', 'next_word.isdigit=False', 'next_postag=ADP', 'next_postag.isnounpronoun=False']\n",
            "41 Word     : ['bias=1.0', 'word.lower=to', 'word[-3]=', 'word[-2]=', 'word.islower=True', 'word.isupper=False', 'word.istitle=False',\n",
            "              'word.isdigit=False', 'postag=ADP', 'postag.isnounpronoun=False', 'prev_word.lower=(', 'prev_word[-3]=', 'prev_word[-2]=',\n",
            "              'prev_word.islower=False', 'prev_word.isupper=False', 'prev_word.istitle=False', 'prev_word.isdigit=False', 'prev_postag=PUNCT',\n",
            "              'prev_postag.isnounpronoun=False', 'next_word.lower=reflect', 'next_word[-3]=refl', 'next_word[-2]=refle', 'next_word.islower=True',\n",
            "              'next_word.isupper=False', 'next_word.istitle=False', 'next_word.isdigit=False', 'next_postag=VERB', 'next_postag.isnounpronoun=False']\n",
            "42 Word     : ['bias=1.0', 'word.lower=reflect', 'word[-3]=refl', 'word[-2]=refle', 'word.islower=True', 'word.isupper=False', 'word.istitle=False',\n",
            "              'word.isdigit=False', 'postag=VERB', 'postag.isnounpronoun=False', 'prev_word.lower=to', 'prev_word[-3]=', 'prev_word[-2]=',\n",
            "              'prev_word.islower=True', 'prev_word.isupper=False', 'prev_word.istitle=False', 'prev_word.isdigit=False', 'prev_postag=ADP',\n",
            "              'prev_postag.isnounpronoun=False', 'next_word.lower=risk', 'next_word[-3]=r', 'next_word[-2]=ri', 'next_word.islower=True',\n",
            "              'next_word.isupper=False', 'next_word.istitle=False', 'next_word.isdigit=False', 'next_postag=NOUN', 'next_postag.isnounpronoun=True']\n",
            "43 Word     : ['bias=1.0', 'word.lower=risk', 'word[-3]=r', 'word[-2]=ri', 'word.islower=True', 'word.isupper=False', 'word.istitle=False',\n",
            "              'word.isdigit=False', 'postag=NOUN', 'postag.isnounpronoun=True', 'prev_word.lower=reflect', 'prev_word[-3]=refl',\n",
            "              'prev_word[-2]=refle', 'prev_word.islower=True', 'prev_word.isupper=False', 'prev_word.istitle=False', 'prev_word.isdigit=False',\n",
            "              'prev_postag=VERB', 'prev_postag.isnounpronoun=False', 'next_word.lower=status', 'next_word[-3]=sta', 'next_word[-2]=stat',\n",
            "              'next_word.islower=True', 'next_word.isupper=False', 'next_word.istitle=False', 'next_word.isdigit=False', 'next_postag=PROPN',\n",
            "              'next_postag.isnounpronoun=True']\n",
            "44 Word     : ['bias=1.0', 'word.lower=status', 'word[-3]=sta', 'word[-2]=stat', 'word.islower=True', 'word.isupper=False', 'word.istitle=False',\n",
            "              'word.isdigit=False', 'postag=PROPN', 'postag.isnounpronoun=True', 'prev_word.lower=risk', 'prev_word[-3]=r', 'prev_word[-2]=ri',\n",
            "              'prev_word.islower=True', 'prev_word.isupper=False', 'prev_word.istitle=False', 'prev_word.isdigit=False', 'prev_postag=NOUN',\n",
            "              'prev_postag.isnounpronoun=True', 'next_word.lower=)', 'next_word[-3]=', 'next_word[-2]=', 'next_word.islower=False',\n",
            "              'next_word.isupper=False', 'next_word.istitle=False', 'next_word.isdigit=False', 'next_postag=PUNCT', 'next_postag.isnounpronoun=False']\n",
            "45 Word     : ['bias=1.0', 'word.lower=)', 'word[-3]=', 'word[-2]=', 'word.islower=False', 'word.isupper=False', 'word.istitle=False',\n",
            "              'word.isdigit=False', 'postag=PUNCT', 'postag.isnounpronoun=False', 'prev_word.lower=status', 'prev_word[-3]=sta', 'prev_word[-2]=stat',\n",
            "              'prev_word.islower=True', 'prev_word.isupper=False', 'prev_word.istitle=False', 'prev_word.isdigit=False', 'prev_postag=PROPN',\n",
            "              'prev_postag.isnounpronoun=True', 'END']\n"
          ]
        }
      ],
      "source": [
        "features = getFeaturesForOneSentence(\"train_1\")\n",
        "prefix = \"01 Sentence : \"\n",
        "wrapper = textwrap.TextWrapper(initial_indent = prefix, width = 150, subsequent_indent = ' '*len(prefix))\n",
        "print(wrapper.fill(train_sentences[0]))\n",
        "print('\\n')\n",
        "\n",
        "i = 1\n",
        "for feature in features:\n",
        "    prefix = str('%02d' % i) + \" Word     : \"\n",
        "    wrapper = textwrap.TextWrapper(initial_indent = prefix, width = 150, subsequent_indent = ' '*len(prefix))\n",
        "    print(wrapper.fill(str(feature)))\n",
        "    i += 1"
      ]
    },
    {
      "cell_type": "code",
      "execution_count": null,
      "metadata": {
        "id": "OYntLeNFq3Vx"
      },
      "outputs": [],
      "source": [
        "def getLabelsForOneSentence(sentence_id):\n",
        "    return frequency_df[frequency_df[\"sentence\"] == sentence_id][\"label\"]"
      ]
    },
    {
      "cell_type": "code",
      "execution_count": null,
      "metadata": {
        "colab": {
          "base_uri": "https://localhost:8080/"
        },
        "id": "zE9yRnvGq3Vy",
        "outputId": "5fc202df-a8b7-4947-ea18-94c0bea2e941"
      },
      "outputs": [
        {
          "output_type": "stream",
          "name": "stdout",
          "text": [
            "01 Labels  : O O O O O O O O O O O O O O O O O O O O O O O O O O O O O O O O O O O O O O O O O O O O O\n"
          ]
        }
      ],
      "source": [
        "labels = getLabelsForOneSentence(\"train_1\")\n",
        "\n",
        "prefix = \"01 Labels  : \"\n",
        "wrapper = textwrap.TextWrapper(initial_indent = prefix, width = 150, subsequent_indent = ' '*len(prefix))\n",
        "print(wrapper.fill(\" \".join(labels)))"
      ]
    },
    {
      "cell_type": "code",
      "execution_count": null,
      "metadata": {
        "colab": {
          "base_uri": "https://localhost:8080/"
        },
        "id": "rocvWa9gq3V0",
        "outputId": "61c623df-2c12-4605-80d0-21c3725fb2b0"
      },
      "outputs": [
        {
          "output_type": "stream",
          "name": "stdout",
          "text": [
            "Training Sentences\n",
            "------------------\n"
          ]
        },
        {
          "output_type": "stream",
          "name": "stderr",
          "text": [
            "100%|██████████| 2599/2599 [00:28<00:00, 90.50it/s] \n"
          ]
        },
        {
          "output_type": "stream",
          "name": "stdout",
          "text": [
            "\n",
            "\n",
            "Testing Sentences\n",
            "------------------\n"
          ]
        },
        {
          "output_type": "stream",
          "name": "stderr",
          "text": [
            "100%|██████████| 1056/1056 [00:11<00:00, 93.51it/s] \n"
          ]
        }
      ],
      "source": [
        "print(\"Training Sentences\")\n",
        "print(\"------------------\")\n",
        "X_train = [getFeaturesForOneSentence(\"train_\" + str(i+1)) for i in tqdm(range(len(train_sentences)))] \n",
        "\n",
        "print(\"\\n\")\n",
        "print(\"Testing Sentences\")\n",
        "print(\"------------------\")\n",
        "X_test = [getFeaturesForOneSentence(\"test_\" + str(i+1)) for i in tqdm(range(len(test_sentences)))] "
      ]
    },
    {
      "cell_type": "code",
      "execution_count": null,
      "metadata": {
        "colab": {
          "base_uri": "https://localhost:8080/"
        },
        "id": "MSfFWjmaq3V2",
        "outputId": "bd9b8bc4-afe2-4bea-8bc7-9bf859d4d4fd"
      },
      "outputs": [
        {
          "output_type": "stream",
          "name": "stdout",
          "text": [
            "Training Labels\n",
            "------------------\n"
          ]
        },
        {
          "output_type": "stream",
          "name": "stderr",
          "text": [
            "100%|██████████| 2599/2599 [00:21<00:00, 118.30it/s]\n"
          ]
        },
        {
          "output_type": "stream",
          "name": "stdout",
          "text": [
            "\n",
            "\n",
            "Testing Labels\n",
            "------------------\n"
          ]
        },
        {
          "output_type": "stream",
          "name": "stderr",
          "text": [
            "100%|██████████| 1056/1056 [00:09<00:00, 114.25it/s]\n"
          ]
        }
      ],
      "source": [
        "print(\"Training Labels\")\n",
        "print(\"------------------\")\n",
        "Y_train = [getLabelsForOneSentence(\"train_\" + str(i+1)) for i in tqdm(range(len(train_labels)))] \n",
        "\n",
        "print(\"\\n\")\n",
        "print(\"Testing Labels\")\n",
        "print(\"------------------\")\n",
        "Y_test = [getLabelsForOneSentence(\"test_\" + str(i+1)) for i in tqdm(range(len(test_labels)))]"
      ]
    },
    {
      "cell_type": "code",
      "execution_count": null,
      "metadata": {
        "colab": {
          "base_uri": "https://localhost:8080/"
        },
        "id": "DctSeVr4q3V3",
        "outputId": "25aba0b2-01f6-47a9-dfad-2a58f292f8a7"
      },
      "outputs": [
        {
          "output_type": "execute_result",
          "data": {
            "text/plain": [
              "CRF(all_possible_transitions=True, c1=0.1, c2=0.1, keep_tempfiles=None,\n",
              "    max_iterations=100)"
            ]
          },
          "metadata": {},
          "execution_count": 15
        }
      ],
      "source": [
        "crf = sklearn_crfsuite.CRF(c1=0.1, c2=0.1, max_iterations=100, all_possible_transitions=True)\n",
        "crf.fit(X_train, Y_train)"
      ]
    },
    {
      "cell_type": "code",
      "execution_count": null,
      "metadata": {
        "id": "vetqvpHdq3V4"
      },
      "outputs": [],
      "source": [
        "Y_pred = crf.predict(X_test)"
      ]
    },
    {
      "cell_type": "code",
      "execution_count": null,
      "metadata": {
        "id": "Xfx-2EVQq3V5",
        "colab": {
          "base_uri": "https://localhost:8080/"
        },
        "outputId": "6c72b001-c173-407a-e512-a2d474718f98"
      },
      "outputs": [
        {
          "output_type": "stream",
          "name": "stdout",
          "text": [
            "Predicted F1-Score : 92.01 % \n"
          ]
        }
      ],
      "source": [
        "f1_score = metrics.flat_f1_score(Y_test, Y_pred, average='weighted')\n",
        "print('Predicted F1-Score : {0} % '.format(round(f1_score*100,2)))"
      ]
    },
    {
      "cell_type": "code",
      "execution_count": null,
      "metadata": {
        "id": "nuikBdHWq3V6",
        "colab": {
          "base_uri": "https://localhost:8080/",
          "height": 206
        },
        "outputId": "43267013-38fa-4ba1-d39d-1bdb6c815ac3"
      },
      "outputs": [
        {
          "output_type": "execute_result",
          "data": {
            "text/html": [
              "\n",
              "  <div id=\"df-1c49fdde-5766-4e74-80ae-8c058f02c11e\">\n",
              "    <div class=\"colab-df-container\">\n",
              "      <div>\n",
              "<style scoped>\n",
              "    .dataframe tbody tr th:only-of-type {\n",
              "        vertical-align: middle;\n",
              "    }\n",
              "\n",
              "    .dataframe tbody tr th {\n",
              "        vertical-align: top;\n",
              "    }\n",
              "\n",
              "    .dataframe thead th {\n",
              "        text-align: right;\n",
              "    }\n",
              "</style>\n",
              "<table border=\"1\" class=\"dataframe\">\n",
              "  <thead>\n",
              "    <tr style=\"text-align: right;\">\n",
              "      <th></th>\n",
              "      <th>sentence</th>\n",
              "      <th>text</th>\n",
              "      <th>lemma</th>\n",
              "      <th>pos</th>\n",
              "      <th>label</th>\n",
              "      <th>pred_label</th>\n",
              "    </tr>\n",
              "  </thead>\n",
              "  <tbody>\n",
              "    <tr>\n",
              "      <th>0</th>\n",
              "      <td>test_1</td>\n",
              "      <td>Furthermore</td>\n",
              "      <td>furthermore</td>\n",
              "      <td>ADV</td>\n",
              "      <td>O</td>\n",
              "      <td>O</td>\n",
              "    </tr>\n",
              "    <tr>\n",
              "      <th>1</th>\n",
              "      <td>test_1</td>\n",
              "      <td>,</td>\n",
              "      <td>,</td>\n",
              "      <td>PUNCT</td>\n",
              "      <td>O</td>\n",
              "      <td>O</td>\n",
              "    </tr>\n",
              "    <tr>\n",
              "      <th>2</th>\n",
              "      <td>test_1</td>\n",
              "      <td>when</td>\n",
              "      <td>when</td>\n",
              "      <td>ADV</td>\n",
              "      <td>O</td>\n",
              "      <td>O</td>\n",
              "    </tr>\n",
              "    <tr>\n",
              "      <th>3</th>\n",
              "      <td>test_1</td>\n",
              "      <td>all</td>\n",
              "      <td>all</td>\n",
              "      <td>DET</td>\n",
              "      <td>O</td>\n",
              "      <td>O</td>\n",
              "    </tr>\n",
              "    <tr>\n",
              "      <th>4</th>\n",
              "      <td>test_1</td>\n",
              "      <td>deliveries</td>\n",
              "      <td>delivery</td>\n",
              "      <td>NOUN</td>\n",
              "      <td>O</td>\n",
              "      <td>O</td>\n",
              "    </tr>\n",
              "  </tbody>\n",
              "</table>\n",
              "</div>\n",
              "      <button class=\"colab-df-convert\" onclick=\"convertToInteractive('df-1c49fdde-5766-4e74-80ae-8c058f02c11e')\"\n",
              "              title=\"Convert this dataframe to an interactive table.\"\n",
              "              style=\"display:none;\">\n",
              "        \n",
              "  <svg xmlns=\"http://www.w3.org/2000/svg\" height=\"24px\"viewBox=\"0 0 24 24\"\n",
              "       width=\"24px\">\n",
              "    <path d=\"M0 0h24v24H0V0z\" fill=\"none\"/>\n",
              "    <path d=\"M18.56 5.44l.94 2.06.94-2.06 2.06-.94-2.06-.94-.94-2.06-.94 2.06-2.06.94zm-11 1L8.5 8.5l.94-2.06 2.06-.94-2.06-.94L8.5 2.5l-.94 2.06-2.06.94zm10 10l.94 2.06.94-2.06 2.06-.94-2.06-.94-.94-2.06-.94 2.06-2.06.94z\"/><path d=\"M17.41 7.96l-1.37-1.37c-.4-.4-.92-.59-1.43-.59-.52 0-1.04.2-1.43.59L10.3 9.45l-7.72 7.72c-.78.78-.78 2.05 0 2.83L4 21.41c.39.39.9.59 1.41.59.51 0 1.02-.2 1.41-.59l7.78-7.78 2.81-2.81c.8-.78.8-2.07 0-2.86zM5.41 20L4 18.59l7.72-7.72 1.47 1.35L5.41 20z\"/>\n",
              "  </svg>\n",
              "      </button>\n",
              "      \n",
              "  <style>\n",
              "    .colab-df-container {\n",
              "      display:flex;\n",
              "      flex-wrap:wrap;\n",
              "      gap: 12px;\n",
              "    }\n",
              "\n",
              "    .colab-df-convert {\n",
              "      background-color: #E8F0FE;\n",
              "      border: none;\n",
              "      border-radius: 50%;\n",
              "      cursor: pointer;\n",
              "      display: none;\n",
              "      fill: #1967D2;\n",
              "      height: 32px;\n",
              "      padding: 0 0 0 0;\n",
              "      width: 32px;\n",
              "    }\n",
              "\n",
              "    .colab-df-convert:hover {\n",
              "      background-color: #E2EBFA;\n",
              "      box-shadow: 0px 1px 2px rgba(60, 64, 67, 0.3), 0px 1px 3px 1px rgba(60, 64, 67, 0.15);\n",
              "      fill: #174EA6;\n",
              "    }\n",
              "\n",
              "    [theme=dark] .colab-df-convert {\n",
              "      background-color: #3B4455;\n",
              "      fill: #D2E3FC;\n",
              "    }\n",
              "\n",
              "    [theme=dark] .colab-df-convert:hover {\n",
              "      background-color: #434B5C;\n",
              "      box-shadow: 0px 1px 3px 1px rgba(0, 0, 0, 0.15);\n",
              "      filter: drop-shadow(0px 1px 2px rgba(0, 0, 0, 0.3));\n",
              "      fill: #FFFFFF;\n",
              "    }\n",
              "  </style>\n",
              "\n",
              "      <script>\n",
              "        const buttonEl =\n",
              "          document.querySelector('#df-1c49fdde-5766-4e74-80ae-8c058f02c11e button.colab-df-convert');\n",
              "        buttonEl.style.display =\n",
              "          google.colab.kernel.accessAllowed ? 'block' : 'none';\n",
              "\n",
              "        async function convertToInteractive(key) {\n",
              "          const element = document.querySelector('#df-1c49fdde-5766-4e74-80ae-8c058f02c11e');\n",
              "          const dataTable =\n",
              "            await google.colab.kernel.invokeFunction('convertToInteractive',\n",
              "                                                     [key], {});\n",
              "          if (!dataTable) return;\n",
              "\n",
              "          const docLinkHtml = 'Like what you see? Visit the ' +\n",
              "            '<a target=\"_blank\" href=https://colab.research.google.com/notebooks/data_table.ipynb>data table notebook</a>'\n",
              "            + ' to learn more about interactive tables.';\n",
              "          element.innerHTML = '';\n",
              "          dataTable['output_type'] = 'display_data';\n",
              "          await google.colab.output.renderOutput(dataTable, element);\n",
              "          const docLink = document.createElement('div');\n",
              "          docLink.innerHTML = docLinkHtml;\n",
              "          element.appendChild(docLink);\n",
              "        }\n",
              "      </script>\n",
              "    </div>\n",
              "  </div>\n",
              "  "
            ],
            "text/plain": [
              "  sentence         text        lemma    pos label pred_label\n",
              "0   test_1  Furthermore  furthermore    ADV     O          O\n",
              "1   test_1            ,            ,  PUNCT     O          O\n",
              "2   test_1         when         when    ADV     O          O\n",
              "3   test_1          all          all    DET     O          O\n",
              "4   test_1   deliveries     delivery   NOUN     O          O"
            ]
          },
          "metadata": {},
          "execution_count": 19
        }
      ],
      "source": [
        "def get_labels_as_array(labels):\n",
        "    pred_label = []\n",
        "\n",
        "    for label in labels:\n",
        "        pred_label.extend(label)\n",
        "        \n",
        "    return pred_label\n",
        "\n",
        "test_frequency_df[\"pred_label\"] = get_labels_as_array(Y_pred)\n",
        "test_frequency_df.head(5)"
      ]
    },
    {
      "cell_type": "code",
      "execution_count": null,
      "metadata": {
        "id": "eAoTuEZwq3V7",
        "colab": {
          "base_uri": "https://localhost:8080/"
        },
        "outputId": "ffbe2372-ac84-4f90-d870-f07fc80d0415"
      },
      "outputs": [
        {
          "output_type": "stream",
          "name": "stdout",
          "text": [
            "{\n",
            "    \"AOM drug - resistant S. pneumoniae\": \"Amoxicillin remains the antibiotic of choice\",\n",
            "    \"Barrett 's esophagus\": \"Acid suppression therapy\",\n",
            "    \"Cranial nerve injuries\": \"persistent conduction blocks\",\n",
            "    \"Eisenmenger 's syndrome\": \"laparoscopic cholecystectomy\",\n",
            "    \"Parkinson 's disease\": \"Microelectrode - guided posteroventral pallidotomy\",\n",
            "    \"Pneumocystis carinii pneumonia\": \"trimethoprim - sulfamethoxazole\",\n",
            "    \"Spontaneous splenic rupture\": \"granulocyte colony - stimulating factor ( G - CSF )\",\n",
            "    \"abdominal pain\": \"thoracic paravertebral block ( tpvb )\",\n",
            "    \"acute carbon monoxide poisoning\": \"Hyperbaric or normobaric oxygen\",\n",
            "    \"acute cerebral ischemia\": \"Antiplatelet therapy\",\n",
            "    \"acute migraine treatment\": \"Sumatriptan\",\n",
            "    \"acute myocardial infarction\": \"thrombolytic treatment\",\n",
            "    \"acute occlusion of the middle cerebral artery\": \"thrombolytic therapy\",\n",
            "    \"advanced non -- small - cell lung cancer\": \"paclitaxel plus carboplatin ( pc ) vinorelbine plus cisplatin ( vc )\",\n",
            "    \"advanced nsclc\": \"combination chemotherapy of cisplatin , ifosfamide and irinotecan with rhg - csf support\",\n",
            "    \"advanced renal cell carcinoma\": \"interferon alpha preparations interferon alfa - N1 , interferon alfa-2a interferon alfa-2b\",\n",
            "    \"advanced stage ( TNM IIB - IVB ) mycosis fungoides\": \"a combination chemotherapy program consisting of bleomycin and methotrexate weekly\",\n",
            "    \"asthma\": \"Fluticasone propionate\",\n",
            "    \"autoimmune diseases\": \"intravenous immunoglobulin ( hdIVIg )\",\n",
            "    \"autoimmune hemolytic anemia\": \"heparin\",\n",
            "    \"bacterial meningitis\": \"vaccines\",\n",
            "    \"bacterial meningitis Haemophilus influenzae meningitis\": \"antibiotic - resistant strains of bacterial pathogens\",\n",
            "    \"biliary colic symptoms biliary dyskinesia\": \"cholecystectomy\",\n",
            "    \"bos and concurrent acute rejection\": \"therapy with extracorporeal photopheresis\",\n",
            "    \"breast cancer\": \"subcutaneous mastectomy\",\n",
            "    \"bronchial asthma\": \"Non - steroidal anti - inflammatory therapy\",\n",
            "    \"cancer\": \"Matrix metalloproteinase inhibitors\",\n",
            "    \"cardiac disease\": \"fenfluramine - phentermine\",\n",
            "    \"cardiac insufficiency\": \"beta - blockers\",\n",
            "    \"cerebral palsy\": \"Hyperbaric oxygen therapy\",\n",
            "    \"chronic hepatitis C\": \"Combination therapy with interferon - alpha ( IFN alpha ) plus Ribavirin\",\n",
            "    \"colds\": \"vitamin C\",\n",
            "    \"colds colds\": \"antibiotics antibiotics\",\n",
            "    \"colorectal cancer\": \"UFT\",\n",
            "    \"colorectal metastases\": \"therapeutic vats metastasectomy\",\n",
            "    \"common cold\": \"Macrolide antibiotics\",\n",
            "    \"coronary - artery disease\": \"Antichlamydial antibiotics\",\n",
            "    \"depression\": \"venlafaxine\",\n",
            "    \"diabetes mellitus\": \"insulin\",\n",
            "    \"disseminated malignant melanoma\": \"leukocyte A recombinant interferon ( rIFN - alpha A , Roferon - A , Hoffmann La Roche )\",\n",
            "    \"duodenal ulcer\": \"subtotal gastrectomy\",\n",
            "    \"early Parkinson 's disease\": \"Ropinirole monotherapy\",\n",
            "    \"early bos\": \"extracorporeal photopheresis\",\n",
            "    \"epilepsy ADHD\": \"Methylphenidate\",\n",
            "    \"epithelial ovarian cancer\": \"High - dose chemotherapy with autologous stem - cell support\",\n",
            "    \"esophageal achalasia\": \"botulinum toxin injection , pneumatic dilation laparoscopic myotomy\",\n",
            "    \"essential hypertension\": \"moxonidine\",\n",
            "    \"female stress urinary incontinence\": \"surgical treatment\",\n",
            "    \"foot infection in diabetic patients\": \"G - CSF treatment\",\n",
            "    \"gastrointestinal tumours\": \"Elective surgery\",\n",
            "    \"hairy cell leukemia infection\": \"antileukemic therapy\",\n",
            "    \"head and neck cancer\": \"irradiation therapy\",\n",
            "    \"heart failure\": \"beta - blockade\",\n",
            "    \"hepatic metastases from colorectal cancer\": \"Hepatic arterial infusion of chemotherapy\",\n",
            "    \"hepatitis C viremia\": \"combination therapy\",\n",
            "    \"hyperammonemia cancer\": \"organ transplantation and chemotherapy\",\n",
            "    \"infection\": \"a combination of omeprazole , amoxicillin , and clarithromycin\",\n",
            "    \"inflammatory skin diseases\": \"topical corticosteroids\",\n",
            "    \"influenza breast cancer\": \"vaccination\",\n",
            "    \"irritable bowel syndrome\": \"Chinese herbal medicine\",\n",
            "    \"ischemic heart disease\": \"Aortocoronary bypass grafting\",\n",
            "    \"large - bowel cancer\": \"oral UFT\",\n",
            "    \"limited - stage small - cell carcinoma of the lung\": \"combined - modality therapy\",\n",
            "    \"locally advanced non - small - cell lung cancer ( la - nsclc )\": \"combined - modality therapy ( cmt ; chemotherapy and radiotherapy )\",\n",
            "    \"low - grade non - Hodgkin 's lymphoma\": \"interferon alpha\",\n",
            "    \"low - grade non - Hodgkin 's lymphomas\": \"interferon interferon\",\n",
            "    \"lung abscess inflammation\": \"video - assisted thoracoscopic surgery\",\n",
            "    \"lung carcinoma\": \"videothoracoscopic lobectomy or partial resection of the lung open thoracotomy\",\n",
            "    \"macrosomic infants in gestational diabetes cases\": \"good glycemic control\",\n",
            "    \"macular degeneration ( AMD )\": \"external beam radiation therapy\",\n",
            "    \"major pulmonary embolism\": \"thrombolytic treatment\",\n",
            "    \"malignant melanoma\": \"single agent therapy interferon alfa-2a\",\n",
            "    \"malignant pleural effusions from nsclc\": \"systemic chemotherapy\",\n",
            "    \"malignant pleural mesothelioma\": \"thoracotomy , radiotherapy , and chemotherapy\",\n",
            "    \"mild preeclampsia preeclampsia\": \"partner insemination program donor insemination program\",\n",
            "    \"mitomycin - resistant bladder cancer\": \"photodynamic therapy in combination with mitomycin C\",\n",
            "    \"moderately symptomatic benign prostatic hyperplasia\": \"surgical resection\",\n",
            "    \"mouse - adopted strain of influenza A2 ( H2N2 ) virus\": \"Gingyo - san\",\n",
            "    \"multidrug resistant TB\": \"antibiotic era\",\n",
            "    \"multiple sclerosis\": \"Intravenous immunoglobulin treatment\",\n",
            "    \"neutropenia during cancer\": \"chemotherapy\",\n",
            "    \"non - Hodgkin 's lymphoma\": \"Conventional treatments\",\n",
            "    \"non - functioning endocrine pancreatic tumor with progressive liver and lymph node metastases\": \"i.m . lanreotide therapy\",\n",
            "    \"non - obstructive azoospermia\": \"TEFNA\",\n",
            "    \"non - seminomatous germ - cell tumors\": \"chemotherapy\",\n",
            "    \"non - small - cell - lung - cancer ( nsclc )\": \"cisplatin and radiotherapy\",\n",
            "    \"non - small cell lung cancer prostate cancer\": \"paclitaxel and carboplatin\",\n",
            "    \"novel hepatitis B\": \"vaccine\",\n",
            "    \"nsclc\": \"sequential chemotherapy\",\n",
            "    \"nsclc nsclc ( stage iiib ) sclc\": \"surgical treatment chemo- and radiotherapy\",\n",
            "    \"ovarian cancer\": \"paclitaxel\",\n",
            "    \"paranasal sinuses associated with the common cold\": \"pseudoephedrine plus acetaminophen\",\n",
            "    \"partial seizures\": \"lamotrigine ( LTG )\",\n",
            "    \"pathologic stage i non - small cell lung cancer\": \"postoperative oral administration of uft , a 5-fluorouracil derivative chemotherapeutic agent\",\n",
            "    \"persistent asthma\": \"corticosteroids\",\n",
            "    \"pertussis\": \"vaccines\",\n",
            "    \"preeclampsia ( proteinuric hypertension\": \"intrauterine insemination with donor sperm intrauterine insemination\",\n",
            "    \"preexisting s.c . tumors peritoneal tumors\": \"Subcutaneous injection of irradiated LLC - IL2\",\n",
            "    \"primary cancer\": \"adjuvant radiation therapy\",\n",
            "    \"primary lung cancer adenocarcinoma ( ad ) squamous cell carcinoma ( sq )\": \"resection\",\n",
            "    \"primary pulmonary hypertension ( PPH )\": \"fenfluramines\",\n",
            "    \"primary tumor bronchogenic carcinoma\": \"resection\",\n",
            "    \"prostate cancer\": \"radical prostatectomy and iodine 125 interstitial radiotherapy\",\n",
            "    \"proximal hypospadias\": \"Tubularized incised plate hypospadias repair\",\n",
            "    \"psoriasis\": \"topical therapy\",\n",
            "    \"pulmonary hypertension\": \"double lung transplantation\",\n",
            "    \"pulmonary symptoms attributable to their massively enlarging mediastinal teratomas\": \"chemotherapy\",\n",
            "    \"radiation - induced myelopathy\": \"heparin and enoxaparin\",\n",
            "    \"rectal cancer\": \"Nerve - sparing surgery\",\n",
            "    \"recurrent cervical adenocarcinoma\": \"weekly paclitaxel\",\n",
            "    \"renal cell carcinoma\": \"Interferon treatment\",\n",
            "    \"restenosis\": \"coronary angioplasty\",\n",
            "    \"retinoblastoma\": \"radiotherapy\",\n",
            "    \"rheumatoid arthritis\": \"arthrodesis\",\n",
            "    \"sclc extensive disease\": \"platinum dose ( cisplatin plus carboplatin ) in combination chemotherapy combination therapy with carboplatin\",\n",
            "    \"severe acute hepatitis accompanying cholestasis autoimmune hepatitis\": \"TJ-135\",\n",
            "    \"severe hypertension\": \"methyldopa\",\n",
            "    \"severe psoriasis\": \"systemic treatments\",\n",
            "    \"severe secondary peritonitis\": \"Surgical management\",\n",
            "    \"sickle cell disease\": \"hydroxyurea\",\n",
            "    \"single non - sclc melanoma ovarian carcinoma brain metastasis\": \"surgical resection\",\n",
            "    \"small - cell lung cancer\": \"combination chemotherapy\",\n",
            "    \"some malignant tumors such as non - small cell lung cancer\": \"surgery\",\n",
            "    \"sore throat\": \"antibiotics\",\n",
            "    \"spontaneous pneumothorax\": \"Thoracoscopic surgery\",\n",
            "    \"stable asthma\": \"aerosolized salbutamol\",\n",
            "    \"stage 0 lung carcinoma\": \"curative therapy\",\n",
            "    \"stage iii nsclc\": \"chemotherapy surgery or definitive irradiation\",\n",
            "    \"stress urinary incontinence\": \"surgical procedures\",\n",
            "    \"stroke brain hemorrhage atrial fibrillation\": \"Antiplatelet therapy\",\n",
            "    \"stroke hemorrhagic stroke\": \"double - bolus alteplase accelerated infusion of alteplase ( P=0.24\",\n",
            "    \"symptomatic metastases\": \"radiotherapy\",\n",
            "    \"testicular bleeding\": \"fine needle aspiration\",\n",
            "    \"tumor necrosis TSS\": \"factor - alpha , interleukin-6 and interferon - gamma\",\n",
            "    \"unresectable stage iii nsclc\": \"sequential chemotherapy followed by radiation\",\n",
            "    \"unstable angina or non - Q - wave myocardial infarction\": \"roxithromycin\",\n",
            "    \"untreated small cell lung cancer ( sclc ) untreated sclc\": \"chemotherapy\",\n",
            "    \"ventricular tachycardia\": \"surgical therapy\",\n",
            "    \"viral infections\": \"Interferon plays\"\n",
            "}\n"
          ]
        }
      ],
      "source": [
        "new_df = test_frequency_df[(test_frequency_df.pred_label != 'O')]\n",
        "new_df.set_index('sentence',inplace=True)\n",
        "\n",
        "disease=[]\n",
        "treatment=[]\n",
        "sentence=[]\n",
        "med_dict = {}\n",
        "\n",
        "for i in new_df.index.unique():\n",
        "    try:\n",
        "        val = new_df.loc[i,'pred_label'].unique()\n",
        "        if len(val) == 2:\n",
        "            disease_val = new_df[new_df.pred_label == 'D'].loc[i,'text']\n",
        "            treatment_val = new_df[new_df.pred_label == 'T'].loc[i,'text']\n",
        "            disease_single = disease_val if type(disease_val) == str else \" \".join(disease_val)\n",
        "            treatment_single = treatment_val if type(treatment_val) == str else \" \".join(treatment_val)\n",
        "            if disease_single not in disease:\n",
        "                med_dict[disease_single] = treatment_single\n",
        "            else:\n",
        "                print('Entered')\n",
        "                med_dict[disease_single] = med_dict.get(disease_single)+'/'+treatment_single\n",
        "    except AttributeError:\n",
        "        pass\n",
        "\n",
        "print(json.dumps(dict(sorted(med_dict.items())), indent = 4))"
      ]
    },
    {
      "cell_type": "code",
      "execution_count": null,
      "metadata": {
        "id": "-vi77DIhq3V9",
        "colab": {
          "base_uri": "https://localhost:8080/"
        },
        "outputId": "9c7aa303-a124-4256-a38e-411bdf6f904a"
      },
      "outputs": [
        {
          "output_type": "stream",
          "name": "stdout",
          "text": [
            "Identified Disease   : retinoblastoma\n",
            "Identified Treatment : radiotherapy, radiotherapy\n"
          ]
        }
      ],
      "source": [
        "disease=''\n",
        "treatment=''\n",
        "\n",
        "input_text = []\n",
        "input_pos = []\n",
        "input_label = []\n",
        "\n",
        "input_sent = 'hereditary retinoblastoma'\n",
        "\n",
        "input_model = model(input_sent)\n",
        "\n",
        "for word in input_model:\n",
        "    input_text.append(word.text)\n",
        "    input_pos.append(word.pos_)\n",
        "    input_label.append('D')\n",
        "\n",
        "details_sent = pd.DataFrame({'text':input_text, 'pos':input_pos,'label':input_label})\n",
        "words_for_features = details_sent.apply(get_word_details, axis=1)\n",
        "\n",
        "test_sent = []\n",
        "\n",
        "for i in range(len(input_sent.split())):\n",
        "    test_sent.append(getFeaturesForOneWord(words_for_features, i))\n",
        "\n",
        "for i,tag in enumerate(crf.predict([test_sent])[0]):\n",
        "    \n",
        "    if tag == 'D':\n",
        "        tr = input_sent.split()[i]\n",
        "        disease += tr + \" \"\n",
        "\n",
        "        if tr in med_dict:\n",
        "            treatment += med_dict.get(tr) + \", \"\n",
        "            \n",
        "        if disease.strip() in med_dict:\n",
        "            treatment += med_dict.get(disease.strip()) + \", \"\n",
        "\n",
        "disease = disease.strip()\n",
        "\n",
        "if len(treatment) == 0:\n",
        "    treatment = 'Not Available'\n",
        "else:\n",
        "    treatment = treatment.rstrip(\", \")\n",
        "    \n",
        "print('Identified Disease   :', disease)\n",
        "print('Identified Treatment :', treatment)"
      ]
    }
  ],
  "metadata": {
    "interpreter": {
      "hash": "8b03d4cd05d71d535371b426da57de743181e37d8974a9636efe6e78873daaed"
    },
    "kernelspec": {
      "display_name": "Python 3.9.5 64-bit",
      "language": "python",
      "name": "python3"
    },
    "language_info": {
      "codemirror_mode": {
        "name": "ipython",
        "version": 3
      },
      "file_extension": ".py",
      "mimetype": "text/x-python",
      "name": "python",
      "nbconvert_exporter": "python",
      "pygments_lexer": "ipython3",
      "version": "3.9.5"
    },
    "orig_nbformat": 4,
    "colab": {
      "name": "CRF model.ipynb",
      "provenance": [],
      "collapsed_sections": []
    }
  },
  "nbformat": 4,
  "nbformat_minor": 0
}